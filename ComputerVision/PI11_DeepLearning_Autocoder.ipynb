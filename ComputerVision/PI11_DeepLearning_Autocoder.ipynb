{
  "nbformat": 4,
  "nbformat_minor": 0,
  "metadata": {
    "orig_nbformat": 2,
    "kernelspec": {
      "name": "python3",
      "display_name": "Python 3"
    },
    "colab": {
      "name": "PI11_DeepLearning_Autocoder.ipynb",
      "provenance": [],
      "toc_visible": true
    },
    "language_info": {
      "name": "python"
    },
    "accelerator": "GPU"
  },
  "cells": [
    {
      "cell_type": "markdown",
      "metadata": {
        "id": "RMx5SL-4JdyV"
      },
      "source": [
        "# Autoencoders with Keras, TensorFlow, and Deep Learning\n",
        "\n",
        "## What are autoencoders?\n",
        "Autoencoders are a type of unsupervised neural network (i.e., no class labels or labeled data) that seek to:\n",
        "\n",
        "1. Accept an input set of data (i.e., the input).\n",
        "2. Internally compress the input data into a latent-space representation (i.e., a single vector that compresses and quantifies the input).\n",
        "3. Reconstruct the input data from this latent representation (i.e., the output)."
      ]
    },
    {
      "cell_type": "markdown",
      "metadata": {
        "id": "xpGt278tJdyc"
      },
      "source": [
        "Typically, we think of an autoencoder having two components/subnetworks:\n",
        "\n",
        "1. Encoder: Accepts the input data and compresses it into the latent-space. If we denote our input data as $x$ and the encoder as $E$, then the output latent-space representation,$s$, would be $s = E(x)$.\n",
        "2. Decoder: The decoder is responsible for accepting the latent-space representation $s$ and then reconstructing the original input. If we denote the decoder function as $D$ and the output of the detector as $o$, then we can represent the decoder as $o = D(s)$.\n",
        "\n",
        "Using our mathematical notation, the entire training process of the autoencoder can be written as:\n",
        "\n",
        "$o = D(E(x))$\n",
        "\n",
        "<image src=\"images/keras_autoencoder_arch_flow.png\">\n",
        "\n",
        "Figure 1: Autoencoders with Keras, TensorFlow, Python, and Deep Learning don’t have to be complex. Breaking the concept down to its parts, you’ll have an input image that is passed through the autoencoder which results in a similar output image. (figure inspired by Nathan Hubens’ article, Deep inside: Autoencoders)\n",
        "\n",
        "Here you can see that:\n",
        "\n",
        "1. We input a digit to the autoencoder.\n",
        "2. The encoder subnetwork creates a latent representation of the digit. This latent representation is substantially smaller (in terms of dimensionality) than the input.\n",
        "3. The decoder subnetwork then reconstructs the original digit from the latent representation.\n",
        "\n",
        "You can thus think of an autoencoder as a network that reconstructs its input!\n",
        "\n",
        "To train an autoencoder, we input our data, attempt to reconstruct it, and then minimize the mean squared error (or similar loss function).\n",
        "\n",
        "Ideally, the output of the autoencoder will be near identical to the input.\n",
        "\n",
        "Later in this tutorial, we’ll be training an autoencoder on the MNIST dataset. The MNIST dataset consists of digits that are 28×28 pixels with a single channel, implying that each digit is represented by 28 x 28 = 784 values. The autoencoder we’ll be training here will be able to compress those digits into a vector of only 16 values — that’s a reduction of nearly 98%!\n",
        "\n",
        "## What are applications of autoencoders?\n",
        "\n",
        "<image src=\"images/keras_autoencoders_applications.png\">\n",
        "\n",
        "Autoencoders are typically used for:\n",
        "\n",
        "* Dimensionality reduction (i.e., think PCA but more powerful/intelligent).\n",
        "* Denoising (ex., removing noise and preprocessing images to improve OCR accuracy).\n",
        "* Anomaly/outlier detection (ex., detecting mislabeled data points in a dataset or detecting when an input data point falls well outside our typical data distribution).\n"
      ]
    },
    {
      "cell_type": "markdown",
      "metadata": {
        "id": "iz4gGi4LJdye"
      },
      "source": [
        "## How are autoencoders different from GANs?\n",
        "Both GANs and autoencoders are generative models; however, an autoencoder is essentially learning an identity function via compression.\n",
        "\n",
        "The autoencoder will accept our input data, compress it down to the latent-space representation, and then attempt to reconstruct the input using just the latent-space vector.\n",
        "\n",
        "Typically, the latent-space representation will have much fewer dimensions than the original input data.\n",
        "\n",
        "GANs on the other hand:\n",
        "\n",
        "1. Accept a low dimensional input.\n",
        "2. Build a high dimensional space from it.\n",
        "3. Generate the final output, which is not part of the original training data but ideally passes as such.\n",
        "\n",
        "Furthermore, GANs have an evolving loss landscape, which autoencoders do not."
      ]
    },
    {
      "cell_type": "markdown",
      "metadata": {
        "id": "949e6crUJdye"
      },
      "source": [
        "## Import Packages"
      ]
    },
    {
      "cell_type": "code",
      "metadata": {
        "id": "daQn83KtJdyf"
      },
      "source": [
        "# import the necessary packages\n",
        "from tensorflow.keras.layers import BatchNormalization\n",
        "from tensorflow.keras.layers import Conv2D\n",
        "from tensorflow.keras.layers import Conv2DTranspose\n",
        "from tensorflow.keras.layers import LeakyReLU\n",
        "from tensorflow.keras.layers import Activation\n",
        "from tensorflow.keras.layers import Flatten\n",
        "from tensorflow.keras.layers import Dense\n",
        "from tensorflow.keras.layers import Reshape\n",
        "from tensorflow.keras.layers import Input\n",
        "from tensorflow.keras.models import Model\n",
        "from tensorflow.keras import backend as K\n",
        "from tensorflow.keras.optimizers import Adam\n",
        "from tensorflow.keras.datasets import mnist\n",
        "from tensorflow.keras.models import load_model\n",
        "from sklearn.model_selection import train_test_split\n",
        "import matplotlib.pyplot as plt\n",
        "import numpy as np\n",
        "import argparse\n",
        "import random\n",
        "import pickle\n",
        "import cv2"
      ],
      "execution_count": 7,
      "outputs": []
    },
    {
      "cell_type": "markdown",
      "metadata": {
        "id": "Ya0hDi5dJdyg"
      },
      "source": [
        "### Function to display images in Jupyter Notebooks and Google Colab"
      ]
    },
    {
      "cell_type": "code",
      "metadata": {
        "id": "8BRTOVFzJdyg"
      },
      "source": [
        "def plt_imshow(title, image):\n",
        "    # convert the image frame BGR to RGB color space and display it\n",
        "\tplt.axis(\"off\")\n",
        "\timage = cv2.cvtColor(image, cv2.COLOR_BGR2RGB)\n",
        "\tplt.imshow(image)\n",
        "\tplt.title(title)\n",
        "\tplt.show()"
      ],
      "execution_count": 8,
      "outputs": []
    },
    {
      "cell_type": "markdown",
      "metadata": {
        "id": "bOzrdxZhJdyh"
      },
      "source": [
        "### Implementing a convolutional autoencoder with Keras and TensorFlow\n",
        "\n",
        "Our ConvAutoencoder class contains one static method, build, which accepts five parameters:\n",
        "\n",
        "* width: Width of the input image in pixels.\n",
        "* height: Height of the input image in pixels.\n",
        "* depth: Number of channels (i.e., depth) of the input volume.\n",
        "* filters: A tuple that contains the set of filters for convolution operations. By default, this parameter includes both 32 and 64 filters.\n",
        "* latentDim: The number of neurons in our fully-connected (Dense) latent vector. By default, if this parameter is not passed, the value is set to 16.\n",
        "\n",
        "To start building the decoder model, we:\n",
        "\n",
        "* Construct the input to the decoder model based on the latentDim. (Lines 45 and 46).\n",
        "* Accept the 1D latentDim vector and turn it into a 2D volume so that we can start applying convolution (Line 47).\n",
        "* Loop over the number of filters, this time in reverse order while applying a CONV_TRANSPOSE => RELU => BN operation (Lines 51-56).\n",
        "\n",
        "Transposed convolution is used to increase the spatial dimensions (i.e., width and height) of the volume.\n",
        "\n",
        "Wrapping up, we:\n",
        "\n",
        "* Apply a final CONV_TRANSPOSE layer used to recover the original channel depth of the image (1 channel for single channel/grayscale images or 3 channels for RGB images) on Line 60.\n",
        "* Apply a sigmoid activation function (Line 61).\n",
        "* Build the decoder model, and add it with the encoder to the autoencoder (Lines 64-68). The autoencoder becomes the encoder + decoder.\n",
        "* Return a 3-tuple of the encoder, decoder, and autoencoder.\n"
      ]
    },
    {
      "cell_type": "code",
      "metadata": {
        "id": "7A5p-FIxJdyh"
      },
      "source": [
        "class ConvAutoencoder:\n",
        "\t@staticmethod\n",
        "\tdef build(width, height, depth, filters=(32, 64), latentDim=16):\n",
        "\t\t# initialize the input shape to be \"channels last\" along with\n",
        "\t\t# the channels dimension itself\n",
        "\t\t# channels dimension itself\n",
        "\t\tinputShape = (height, width, depth)\n",
        "\t\tchanDim = -1\n",
        "\n",
        "\t\t# define the input to the encoder\n",
        "\t\tinputs = Input(shape=inputShape)\n",
        "\t\tx = inputs\n",
        "\n",
        "\t\t# loop over the number of filters\n",
        "\t\tfor f in filters:\n",
        "\t\t\t# apply a CONV => RELU => BN operation\n",
        "\t\t\tx = Conv2D(f, (3, 3), strides=2, padding=\"same\")(x)\n",
        "\t\t\tx = LeakyReLU(alpha=0.2)(x)\n",
        "\t\t\tx = BatchNormalization(axis=chanDim)(x)\n",
        "\n",
        "\t\t# flatten the network and then construct our latent vector\n",
        "\t\tvolumeSize = K.int_shape(x)\n",
        "\t\tx = Flatten()(x)\n",
        "\t\tlatent = Dense(latentDim)(x)\n",
        "\n",
        "\t\t# build the encoder model\n",
        "\t\tencoder = Model(inputs, latent, name=\"encoder\")\n",
        "\n",
        "\t\t# start building the decoder model which will accept the\n",
        "\t\t# output of the encoder as its inputs\n",
        "\t\tlatentInputs = Input(shape=(latentDim,))\n",
        "\t\tx = Dense(np.prod(volumeSize[1:]))(latentInputs)\n",
        "\t\tx = Reshape((volumeSize[1], volumeSize[2], volumeSize[3]))(x)\n",
        "\n",
        "\t\t# loop over our number of filters again, but this time in\n",
        "\t\t# reverse order\n",
        "\t\tfor f in filters[::-1]:\n",
        "\t\t\t# apply a CONV_TRANSPOSE => RELU => BN operation\n",
        "\t\t\tx = Conv2DTranspose(f, (3, 3), strides=2, padding=\"same\")(x)\n",
        "\t\t\tx = LeakyReLU(alpha=0.2)(x)\n",
        "\t\t\tx = BatchNormalization(axis=chanDim)(x)\n",
        "\n",
        "\t\t# apply a single CONV_TRANSPOSE layer used to recover the\n",
        "\t\t# original depth of the image\n",
        "\t\tx = Conv2DTranspose(depth, (3, 3), padding=\"same\")(x)\n",
        "\t\toutputs = Activation(\"sigmoid\")(x)\n",
        "\n",
        "\t\t# build the decoder model\n",
        "\t\tdecoder = Model(latentInputs, outputs, name=\"decoder\")\n",
        "\n",
        "\t\t# our autoencoder is the encoder + decoder\n",
        "\t\tautoencoder = Model(inputs, decoder(encoder(inputs)), name=\"autoencoder\")\n",
        "\n",
        "\t\t# return a 3-tuple of the encoder, decoder, and autoencoder\n",
        "\t\treturn (encoder, decoder, autoencoder)"
      ],
      "execution_count": 9,
      "outputs": []
    },
    {
      "cell_type": "markdown",
      "metadata": {
        "id": "rJHil9OVJdyi"
      },
      "source": [
        "### Creating the convolutional autoencoder training script"
      ]
    },
    {
      "cell_type": "code",
      "metadata": {
        "id": "fq7ci0T9Jdyi"
      },
      "source": [
        "# construct the argument parse and parse the arguments\n",
        "#ap = argparse.ArgumentParser()\n",
        "#ap.add_argument(\"-s\", \"--samples\", type=int, default=8,\n",
        "#\thelp=\"# number of samples to visualize when decoding\")\n",
        "#ap.add_argument(\"-o\", \"--output\", type=str, default=\"output.png\",\n",
        "#\thelp=\"path to output visualization file\")\n",
        "#ap.add_argument(\"-p\", \"--plot\", type=str, default=\"plot.png\",\n",
        "#\thelp=\"path to output plot file\")\n",
        "#args = vars(ap.parse_args())\n",
        "\n",
        "# since we are using Jupyter Notebooks we can replace our argument\n",
        "# parsing code with *hard coded* arguments and values\n",
        "args = {\n",
        "\t\"samples\": 8,\n",
        "\t\"output\": \"output/autocoder_output.png\",\n",
        "\t\"plot\": \"output/autocoder_plot.png\"\n",
        "}"
      ],
      "execution_count": 10,
      "outputs": []
    },
    {
      "cell_type": "code",
      "metadata": {
        "colab": {
          "base_uri": "https://localhost:8080/"
        },
        "id": "GcUsKpPCJdyi",
        "outputId": "a2c50168-d3a3-4be6-cbd6-61ca6655172c"
      },
      "source": [
        "# initialize the number of epochs to train for and batch size\n",
        "EPOCHS = 25\n",
        "BS = 32\n",
        "\n",
        "# load the MNIST dataset\n",
        "print(\"[INFO] loading MNIST dataset...\")\n",
        "((trainX, _), (testX, _)) = mnist.load_data()\n",
        "\n",
        "# add a channel dimension to every image in the dataset, then scale\n",
        "# the pixel intensities to the range [0, 1]\n",
        "trainX = np.expand_dims(trainX, axis=-1)\n",
        "testX = np.expand_dims(testX, axis=-1)\n",
        "trainX = trainX.astype(\"float32\") / 255.0\n",
        "testX = testX.astype(\"float32\") / 255.0"
      ],
      "execution_count": 11,
      "outputs": [
        {
          "output_type": "stream",
          "text": [
            "[INFO] loading MNIST dataset...\n"
          ],
          "name": "stdout"
        }
      ]
    },
    {
      "cell_type": "code",
      "metadata": {
        "colab": {
          "base_uri": "https://localhost:8080/"
        },
        "id": "ttr1XKj6Jdyk",
        "outputId": "0b5a3814-7332-455f-88de-d8a3ae7f796e"
      },
      "source": [
        "# construct our convolutional autoencoder\n",
        "print(\"[INFO] building autoencoder...\")\n",
        "(encoder, decoder, autoencoder) = ConvAutoencoder.build(28, 28, 1)\n",
        "opt = Adam(lr=1e-3)\n",
        "autoencoder.compile(loss=\"mse\", optimizer=opt)\n",
        "\n",
        "# train the convolutional autoencoder\n",
        "H = autoencoder.fit(\n",
        "\ttrainX, trainX,\n",
        "\tvalidation_data=(testX, testX),\n",
        "\tepochs=EPOCHS,\n",
        "\tbatch_size=BS)"
      ],
      "execution_count": 12,
      "outputs": [
        {
          "output_type": "stream",
          "text": [
            "[INFO] building autoencoder...\n",
            "Epoch 1/25\n",
            "1875/1875 [==============================] - 7s 4ms/step - loss: 0.0341 - val_loss: 0.0109\n",
            "Epoch 2/25\n",
            "1875/1875 [==============================] - 7s 4ms/step - loss: 0.0108 - val_loss: 0.0095\n",
            "Epoch 3/25\n",
            "1875/1875 [==============================] - 7s 4ms/step - loss: 0.0096 - val_loss: 0.0089\n",
            "Epoch 4/25\n",
            "1875/1875 [==============================] - 7s 4ms/step - loss: 0.0090 - val_loss: 0.0085\n",
            "Epoch 5/25\n",
            "1875/1875 [==============================] - 7s 4ms/step - loss: 0.0085 - val_loss: 0.0082\n",
            "Epoch 6/25\n",
            "1875/1875 [==============================] - 7s 4ms/step - loss: 0.0082 - val_loss: 0.0081\n",
            "Epoch 7/25\n",
            "1875/1875 [==============================] - 7s 4ms/step - loss: 0.0080 - val_loss: 0.0079\n",
            "Epoch 8/25\n",
            "1875/1875 [==============================] - 7s 4ms/step - loss: 0.0078 - val_loss: 0.0077\n",
            "Epoch 9/25\n",
            "1875/1875 [==============================] - 7s 4ms/step - loss: 0.0076 - val_loss: 0.0077\n",
            "Epoch 10/25\n",
            "1875/1875 [==============================] - 7s 4ms/step - loss: 0.0075 - val_loss: 0.0075\n",
            "Epoch 11/25\n",
            "1875/1875 [==============================] - 7s 4ms/step - loss: 0.0074 - val_loss: 0.0076\n",
            "Epoch 12/25\n",
            "1875/1875 [==============================] - 7s 4ms/step - loss: 0.0073 - val_loss: 0.0074\n",
            "Epoch 13/25\n",
            "1875/1875 [==============================] - 7s 4ms/step - loss: 0.0072 - val_loss: 0.0073\n",
            "Epoch 14/25\n",
            "1875/1875 [==============================] - 7s 4ms/step - loss: 0.0071 - val_loss: 0.0073\n",
            "Epoch 15/25\n",
            "1875/1875 [==============================] - 7s 4ms/step - loss: 0.0070 - val_loss: 0.0073\n",
            "Epoch 16/25\n",
            "1875/1875 [==============================] - 7s 4ms/step - loss: 0.0070 - val_loss: 0.0074\n",
            "Epoch 17/25\n",
            "1875/1875 [==============================] - 7s 4ms/step - loss: 0.0069 - val_loss: 0.0071\n",
            "Epoch 18/25\n",
            "1875/1875 [==============================] - 7s 4ms/step - loss: 0.0069 - val_loss: 0.0072\n",
            "Epoch 19/25\n",
            "1875/1875 [==============================] - 7s 4ms/step - loss: 0.0068 - val_loss: 0.0073\n",
            "Epoch 20/25\n",
            "1875/1875 [==============================] - 7s 4ms/step - loss: 0.0067 - val_loss: 0.0072\n",
            "Epoch 21/25\n",
            "1875/1875 [==============================] - 7s 4ms/step - loss: 0.0068 - val_loss: 0.0070\n",
            "Epoch 22/25\n",
            "1875/1875 [==============================] - 7s 4ms/step - loss: 0.0067 - val_loss: 0.0069\n",
            "Epoch 23/25\n",
            "1875/1875 [==============================] - 7s 4ms/step - loss: 0.0066 - val_loss: 0.0070\n",
            "Epoch 24/25\n",
            "1875/1875 [==============================] - 7s 4ms/step - loss: 0.0066 - val_loss: 0.0069\n",
            "Epoch 25/25\n",
            "1875/1875 [==============================] - 7s 4ms/step - loss: 0.0066 - val_loss: 0.0068\n"
          ],
          "name": "stdout"
        }
      ]
    },
    {
      "cell_type": "code",
      "metadata": {
        "colab": {
          "base_uri": "https://localhost:8080/",
          "height": 299
        },
        "id": "TshoYY4aJdyl",
        "outputId": "8073fee1-1d91-4b4a-dbba-3b99dfb517cf"
      },
      "source": [
        "# construct a plot that plots and saves the training history\n",
        "N = np.arange(0, EPOCHS)\n",
        "plt.style.use(\"ggplot\")\n",
        "plt.figure()\n",
        "plt.plot(N, H.history[\"loss\"], label=\"train_loss\")\n",
        "plt.plot(N, H.history[\"val_loss\"], label=\"val_loss\")\n",
        "plt.title(\"Training Loss and Accuracy\")\n",
        "plt.xlabel(\"Epoch #\")\n",
        "plt.ylabel(\"Loss/Accuracy\")\n",
        "plt.legend(loc=\"lower left\")\n",
        "plt.savefig(args[\"plot\"])\n",
        "plt.show()"
      ],
      "execution_count": 14,
      "outputs": [
        {
          "output_type": "display_data",
          "data": {
            "image/png": "[encoded data removed]",
            "text/plain": [
              "<Figure size 432x288 with 1 Axes>"
            ]
          },
          "metadata": {
            "tags": []
          }
        }
      ]
    },
    {
      "cell_type": "code",
      "metadata": {
        "colab": {
          "base_uri": "https://localhost:8080/",
          "height": 282
        },
        "id": "uK6h3Fl6Jdyl",
        "outputId": "e36ece8a-a5f8-4c36-e599-53f810ffdfec"
      },
      "source": [
        "# use the convolutional autoencoder to make predictions on the\n",
        "# testing images, then initialize our list of output images\n",
        "print(\"[INFO] making predictions...\")\n",
        "decoded = autoencoder.predict(testX)\n",
        "outputs = None\n",
        "\n",
        "# loop over our number of output samples\n",
        "for i in range(0, args[\"samples\"]):\n",
        "\t# grab the original image and reconstructed image\n",
        "\toriginal = (testX[i] * 255).astype(\"uint8\")\n",
        "\trecon = (decoded[i] * 255).astype(\"uint8\")\n",
        " \n",
        "\t# stack the original and reconstructed image side-by-side\n",
        "\toutput = np.hstack([original, recon])\n",
        "\n",
        "\t# if the outputs array is empty, initialize it as the current\n",
        "\t# side-by-side image display\n",
        "\tif outputs is None:\n",
        "\t\toutputs = output\n",
        "\n",
        "\t# otherwise, vertically stack the outputs\n",
        "\telse:\n",
        "\t\toutputs = np.vstack([outputs, output])\n",
        "\n",
        "# save the outputs image to disk and display it\n",
        "cv2.imwrite(args[\"output\"], outputs)\n",
        "plt_imshow(\"output\", outputs)"
      ],
      "execution_count": 15,
      "outputs": [
        {
          "output_type": "stream",
          "text": [
            "[INFO] making predictions...\n"
          ],
          "name": "stdout"
        },
        {
          "output_type": "display_data",
          "data": {
            "image/png": "[encoded data removed]",
            "text/plain": [
              "<Figure size 432x288 with 1 Axes>"
            ]
          },
          "metadata": {
            "tags": []
          }
        }
      ]
    },
    {
      "cell_type": "markdown",
      "metadata": {
        "id": "PulOpKmhJdyl"
      },
      "source": [
        "# Denoising autoencoders with Keras, TensorFlow, and Deep Learning\n",
        "\n",
        "The term “noise” here could be:\n",
        "\n",
        "* Produced by a faulty or poor quality image sensor\n",
        "* Random variations in brightness or color\n",
        "* Quantization noise\n",
        "* Artifacts due to JPEG compression\n",
        "* Image perturbations produced by an image scanner or threshold post-processing\n",
        "* Poor paper quality (crinkles and folds) when trying to perform OCR\n",
        "\n",
        "## What are denoising autoencoders, and why would we use them?\n",
        "<image src=\"images/keras_denoising_autoencoder_overview.png\">\n",
        "\n",
        "Instead, the denoising autoencoder procedure was invented to help:\n",
        "\n",
        "* The hidden layers of the autoencoder learn more robust filters\n",
        "* Reduce the risk of overfitting in the autoencoder\n",
        "* Prevent the autoencoder from learning a simple identify function\n",
        "\n",
        "From an image processing standpoint, we can train an autoencoder to perform automatic image pre-processing for us.\n",
        "\n",
        "A great example would be pre-processing an image to improve the accuracy of an optical character recognition (OCR) algorithm."
      ]
    },
    {
      "cell_type": "markdown",
      "metadata": {
        "id": "ZbaSv1zYJdyl"
      },
      "source": [
        "### Implementing the denoising autoencoder training script"
      ]
    },
    {
      "cell_type": "code",
      "metadata": {
        "id": "zc-NdVuCJdym"
      },
      "source": [
        "# construct the argument parse and parse the arguments\n",
        "#ap = argparse.ArgumentParser()\n",
        "#ap.add_argument(\"-s\", \"--samples\", type=int, default=8,\n",
        "#\thelp=\"# number of samples to visualize when decoding\")\n",
        "#ap.add_argument(\"-o\", \"--output\", type=str, default=\"output.png\",\n",
        "#\thelp=\"path to output visualization file\")\n",
        "#ap.add_argument(\"-p\", \"--plot\", type=str, default=\"plot.png\",\n",
        "#\thelp=\"path to output plot file\")\n",
        "#args = vars(ap.parse_args())\n",
        "\n",
        "# since we are using Jupyter Notebooks we can replace our argument\n",
        "# parsing code with *hard coded* arguments and values\n",
        "args = {\n",
        "\t\"samples\": 8,\n",
        "\t\"output\": \"output.png\",\n",
        "\t\"plot\": \"plot.png\"\n",
        "}"
      ],
      "execution_count": 16,
      "outputs": []
    },
    {
      "cell_type": "code",
      "metadata": {
        "colab": {
          "base_uri": "https://localhost:8080/"
        },
        "id": "r3vs7DnvJdym",
        "outputId": "3f362735-c0f7-4187-b27d-1b1f3bea2a49"
      },
      "source": [
        "# initialize the number of epochs to train for and batch size\n",
        "EPOCHS = 25\n",
        "BS = 32\n",
        "\n",
        "# load the MNIST dataset\n",
        "print(\"[INFO] loading MNIST dataset...\")\n",
        "((trainX, _), (testX, _)) = mnist.load_data()\n",
        "\n",
        "# add a channel dimension to every image in the dataset, then scale\n",
        "# the pixel intensities to the range [0, 1]\n",
        "trainX = np.expand_dims(trainX, axis=-1)\n",
        "testX = np.expand_dims(testX, axis=-1)\n",
        "trainX = trainX.astype(\"float32\") / 255.0\n",
        "testX = testX.astype(\"float32\") / 255.0"
      ],
      "execution_count": 17,
      "outputs": [
        {
          "output_type": "stream",
          "text": [
            "[INFO] loading MNIST dataset...\n"
          ],
          "name": "stdout"
        }
      ]
    },
    {
      "cell_type": "markdown",
      "metadata": {
        "id": "DAsRidEvJdyn"
      },
      "source": [
        "To add random noise to the MNIST digits, we use NumPy’s random normal distribution centered at 0.5 with a standard deviation of 0.5 (Lines 41-44)."
      ]
    },
    {
      "cell_type": "code",
      "metadata": {
        "id": "CYj3bNfnJdyn"
      },
      "source": [
        "# sample noise from a random normal distribution centered at 0.5 (since\n",
        "# our images lie in the range [0, 1]) and a standard deviation of 0.5\n",
        "trainNoise = np.random.normal(loc=0.5, scale=0.5, size=trainX.shape)\n",
        "testNoise = np.random.normal(loc=0.5, scale=0.5, size=testX.shape)\n",
        "trainXNoisy = np.clip(trainX + trainNoise, 0, 1)\n",
        "testXNoisy = np.clip(testX + testNoise, 0, 1)"
      ],
      "execution_count": 18,
      "outputs": []
    },
    {
      "cell_type": "code",
      "metadata": {
        "colab": {
          "base_uri": "https://localhost:8080/"
        },
        "id": "5dcmdXvbJdyq",
        "outputId": "92138b2c-c61c-485b-e3db-7259f03e56df"
      },
      "source": [
        "# construct our convolutional autoencoder\n",
        "print(\"[INFO] building autoencoder...\")\n",
        "(encoder, decoder, autoencoder) = ConvAutoencoder.build(28, 28, 1)\n",
        "opt = Adam(lr=1e-3)\n",
        "autoencoder.compile(loss=\"mse\", optimizer=opt)\n",
        "\n",
        "# train the convolutional autoencoder\n",
        "H = autoencoder.fit(\n",
        "\ttrainXNoisy, trainX,\n",
        "\tvalidation_data=(testXNoisy, testX),\n",
        "\tepochs=EPOCHS,\n",
        "\tbatch_size=BS)"
      ],
      "execution_count": 19,
      "outputs": [
        {
          "output_type": "stream",
          "text": [
            "[INFO] building autoencoder...\n",
            "Epoch 1/25\n",
            "1875/1875 [==============================] - 8s 4ms/step - loss: 0.0436 - val_loss: 0.0196\n",
            "Epoch 2/25\n",
            "1875/1875 [==============================] - 7s 4ms/step - loss: 0.0192 - val_loss: 0.0178\n",
            "Epoch 3/25\n",
            "1875/1875 [==============================] - 7s 4ms/step - loss: 0.0179 - val_loss: 0.0176\n",
            "Epoch 4/25\n",
            "1875/1875 [==============================] - 7s 4ms/step - loss: 0.0172 - val_loss: 0.0170\n",
            "Epoch 5/25\n",
            "1875/1875 [==============================] - 7s 4ms/step - loss: 0.0168 - val_loss: 0.0165\n",
            "Epoch 6/25\n",
            "1875/1875 [==============================] - 7s 4ms/step - loss: 0.0164 - val_loss: 0.0166\n",
            "Epoch 7/25\n",
            "1875/1875 [==============================] - 7s 4ms/step - loss: 0.0162 - val_loss: 0.0168\n",
            "Epoch 8/25\n",
            "1875/1875 [==============================] - 7s 4ms/step - loss: 0.0160 - val_loss: 0.0169\n",
            "Epoch 9/25\n",
            "1875/1875 [==============================] - 7s 4ms/step - loss: 0.0158 - val_loss: 0.0168\n",
            "Epoch 10/25\n",
            "1875/1875 [==============================] - 7s 4ms/step - loss: 0.0156 - val_loss: 0.0160\n",
            "Epoch 11/25\n",
            "1875/1875 [==============================] - 7s 4ms/step - loss: 0.0156 - val_loss: 0.0159\n",
            "Epoch 12/25\n",
            "1875/1875 [==============================] - 7s 4ms/step - loss: 0.0153 - val_loss: 0.0158\n",
            "Epoch 13/25\n",
            "1875/1875 [==============================] - 7s 4ms/step - loss: 0.0152 - val_loss: 0.0157\n",
            "Epoch 14/25\n",
            "1875/1875 [==============================] - 7s 4ms/step - loss: 0.0151 - val_loss: 0.0157\n",
            "Epoch 15/25\n",
            "1875/1875 [==============================] - 7s 4ms/step - loss: 0.0151 - val_loss: 0.0168\n",
            "Epoch 16/25\n",
            "1875/1875 [==============================] - 7s 4ms/step - loss: 0.0150 - val_loss: 0.0156\n",
            "Epoch 17/25\n",
            "1875/1875 [==============================] - 7s 4ms/step - loss: 0.0149 - val_loss: 0.0158\n",
            "Epoch 18/25\n",
            "1875/1875 [==============================] - 7s 4ms/step - loss: 0.0148 - val_loss: 0.0159\n",
            "Epoch 19/25\n",
            "1875/1875 [==============================] - 7s 4ms/step - loss: 0.0147 - val_loss: 0.0155\n",
            "Epoch 20/25\n",
            "1875/1875 [==============================] - 7s 4ms/step - loss: 0.0147 - val_loss: 0.0155\n",
            "Epoch 21/25\n",
            "1875/1875 [==============================] - 7s 4ms/step - loss: 0.0146 - val_loss: 0.0155\n",
            "Epoch 22/25\n",
            "1875/1875 [==============================] - 7s 4ms/step - loss: 0.0146 - val_loss: 0.0158\n",
            "Epoch 23/25\n",
            "1875/1875 [==============================] - 7s 4ms/step - loss: 0.0145 - val_loss: 0.0156\n",
            "Epoch 24/25\n",
            "1875/1875 [==============================] - 7s 4ms/step - loss: 0.0145 - val_loss: 0.0159\n",
            "Epoch 25/25\n",
            "1875/1875 [==============================] - 7s 4ms/step - loss: 0.0144 - val_loss: 0.0155\n"
          ],
          "name": "stdout"
        }
      ]
    },
    {
      "cell_type": "code",
      "metadata": {
        "colab": {
          "base_uri": "https://localhost:8080/",
          "height": 299
        },
        "id": "oaHI74S6Jdyq",
        "outputId": "c3cdc444-becb-4d27-b9bc-1bcc12785e03"
      },
      "source": [
        "# construct a plot that plots and saves the training history\n",
        "N = np.arange(0, EPOCHS)\n",
        "plt.style.use(\"ggplot\")\n",
        "plt.figure()\n",
        "plt.plot(N, H.history[\"loss\"], label=\"train_loss\")\n",
        "plt.plot(N, H.history[\"val_loss\"], label=\"val_loss\")\n",
        "plt.title(\"Training Loss and Accuracy\")\n",
        "plt.xlabel(\"Epoch #\")\n",
        "plt.ylabel(\"Loss/Accuracy\")\n",
        "plt.legend(loc=\"lower left\")\n",
        "plt.savefig(args[\"plot\"])\n",
        "plt.show()"
      ],
      "execution_count": 20,
      "outputs": [
        {
          "output_type": "display_data",
          "data": {
            "image/png": "[encoded data removed]",
            "text/plain": [
              "<Figure size 432x288 with 1 Axes>"
            ]
          },
          "metadata": {
            "tags": []
          }
        }
      ]
    },
    {
      "cell_type": "code",
      "metadata": {
        "colab": {
          "base_uri": "https://localhost:8080/",
          "height": 282
        },
        "id": "1bSewaAEJdyr",
        "outputId": "df0d47b0-6b13-42a6-b7b6-55e6d7c07cbd"
      },
      "source": [
        "# use the convolutional autoencoder to make predictions on the\n",
        "# testing images, then initialize our list of output images\n",
        "print(\"[INFO] making predictions...\")\n",
        "decoded = autoencoder.predict(testXNoisy)\n",
        "outputs = None\n",
        "\n",
        "# loop over our number of output samples\n",
        "for i in range(0, args[\"samples\"]):\n",
        "\t# grab the original image and reconstructed image\n",
        "\toriginal = (testXNoisy[i] * 255).astype(\"uint8\")\n",
        "\trecon = (decoded[i] * 255).astype(\"uint8\")\n",
        " \n",
        "\t# stack the original and reconstructed image side-by-side\n",
        "\toutput = np.hstack([original, recon])\n",
        " \n",
        "\t# if the outputs array is empty, initialize it as the current\n",
        "\t# side-by-side image display\n",
        "\tif outputs is None:\n",
        "\t\toutputs = output\n",
        "\n",
        "\t# otherwise, vertically stack the outputs\n",
        "\telse:\n",
        "\t\toutputs = np.vstack([outputs, output])\n",
        "\n",
        "# save the outputs image to disk and display it\n",
        "cv2.imwrite(args[\"output\"], outputs)\n",
        "plt_imshow(\"output\", outputs)"
      ],
      "execution_count": 21,
      "outputs": [
        {
          "output_type": "stream",
          "text": [
            "[INFO] making predictions...\n"
          ],
          "name": "stdout"
        },
        {
          "output_type": "display_data",
          "data": {
            "image/png": "[encoded data removed]",
            "text/plain": [
              "<Figure size 432x288 with 1 Axes>"
            ]
          },
          "metadata": {
            "tags": []
          }
        }
      ]
    },
    {
      "cell_type": "markdown",
      "metadata": {
        "id": "D-ayBCrFJdyr"
      },
      "source": [
        "# Anomaly detection with Keras, TensorFlow, and Deep Learning\n",
        "\n",
        "## What is anomaly detection?\n",
        "\n",
        "<image src=\"images/intro_anomaly_detection_definition.png\">\n",
        "\n",
        "Examples of anomalies include:\n",
        "\n",
        "* Large dips and spikes in the stock market due to world events\n",
        "* Defective items in a factory/on a conveyor belt\n",
        "* Contaminated samples in a lab\n",
        "\n",
        "Depending on your exact use case and application, anomalies only typically occur 0.001-1% of the time — that’s an incredibly small fraction of the time.\n",
        "\n",
        "To detect anomalies, machine learning researchers have created algorithms such as Isolation Forests, One-class SVMs, Elliptic Envelopes, and Local Outlier Factor to help detect such events; however, all of these methods are rooted in traditional machine learning.\n",
        "\n",
        "However, what makes autoencoders so special from an anomaly detection perspective is the reconstruction loss. When we train an autoencoder, we typically measure the mean-squared-error (MSE) between:\n",
        "\n",
        "1. The input image\n",
        "2. The reconstructed image from the autoencoder\n",
        "\n",
        "The lower the loss, the better a job the autoencoder is doing at reconstructing the image.\n",
        "\n",
        "Let’s now suppose that we trained an autoencoder on the entirety of the MNIST dataset:\n",
        "\n",
        "<image src=\"images/autoencoder_anomaly_detection_digit.png\">\n",
        "\n",
        "Let’s now suppose we presented our autoencoder with a photo of an elephant and asked it to reconstruct it:\n",
        "\n",
        "<image src=\"images/autoencoder_anomaly_detection_elephant.png\">\n",
        "\n",
        "Since the autoencoder has never seen an elephant before, and more to the point, was never trained to reconstruct an elephant, our MSE will be very high.\n",
        "\n",
        "If the MSE of the reconstruction is high, then we likely have an outlier."
      ]
    },
    {
      "cell_type": "markdown",
      "metadata": {
        "id": "xx3R4cg9Kip9"
      },
      "source": [
        "### Implementing the anomaly detection training script\n",
        "\n",
        "Our build_supervised_dataset function accepts a labeled dataset (i.e., for supervised learning) and turns it into an unlabeled dataset (i.e., for unsupervised learning).\n",
        "\n",
        "The function accepts a set of input data and labels, including valid label and anomaly label.\n",
        "\n",
        "Given that our validLabel=1 by default, only MNIST numeral ones are selected; however, we’ll also contaminate our dataset with a set of numeral three images (validLabel=3)."
      ]
    },
    {
      "cell_type": "code",
      "metadata": {
        "id": "iBfG8ErtJdys"
      },
      "source": [
        "def build_unsupervised_dataset(data, labels, validLabel=1,\n",
        "\tanomalyLabel=3, contam=0.01, seed=42):\n",
        "\t# grab all indexes of the supplied class label that are *truly*\n",
        "\t# that particular label, then grab the indexes of the image\n",
        "\t# labels that will serve as our \"anomalies\"\n",
        "\tvalidIdxs = np.where(labels == validLabel)[0]\n",
        "\tanomalyIdxs = np.where(labels == anomalyLabel)[0]\n",
        "\n",
        "\t# randomly shuffle both sets of indexes\n",
        "\trandom.shuffle(validIdxs)\n",
        "\trandom.shuffle(anomalyIdxs)\n",
        "\n",
        "\t# compute the total number of anomaly data points to select\n",
        "\ti = int(len(validIdxs) * contam)\n",
        "\tanomalyIdxs = anomalyIdxs[:i]\n",
        "\n",
        "\t# use NumPy array indexing to extract both the valid images and\n",
        "\t# \"anomlay\" images\n",
        "\tvalidImages = data[validIdxs]\n",
        "\tanomalyImages = data[anomalyIdxs]\n",
        "\n",
        "\t# stack the valid images and anomaly images together to form a\n",
        "\t# single data matrix and then shuffle the rows\n",
        "\timages = np.vstack([validImages, anomalyImages])\n",
        "\tnp.random.seed(seed)\n",
        "\tnp.random.shuffle(images)\n",
        "\n",
        "\t# return the set of images\n",
        "\treturn images"
      ],
      "execution_count": 22,
      "outputs": []
    },
    {
      "cell_type": "code",
      "metadata": {
        "id": "WgWrJsflJdys"
      },
      "source": [
        "def visualize_predictions(decoded, gt, samples=10):\n",
        "\t# initialize our list of output images\n",
        "\toutputs = None\n",
        "\n",
        "\t# loop over our number of output samples\n",
        "\tfor i in range(0, samples):\n",
        "\t\t# grab the original image and reconstructed image\n",
        "\t\toriginal = (gt[i] * 255).astype(\"uint8\")\n",
        "\t\trecon = (decoded[i] * 255).astype(\"uint8\")\n",
        "\n",
        "\t\t# stack the original and reconstructed image side-by-side\n",
        "\t\toutput = np.hstack([original, recon])\n",
        "\n",
        "\t\t# if the outputs array is empty, initialize it as the current\n",
        "\t\t# side-by-side image display\n",
        "\t\tif outputs is None:\n",
        "\t\t\toutputs = output\n",
        "\n",
        "\t\t# otherwise, vertically stack the outputs\n",
        "\t\telse:\n",
        "\t\t\toutputs = np.vstack([outputs, output])\n",
        "\n",
        "\t# return the output images\n",
        "\treturn outputs"
      ],
      "execution_count": 23,
      "outputs": []
    },
    {
      "cell_type": "code",
      "metadata": {
        "id": "TKPEcqGxJdys"
      },
      "source": [
        "# construct the argument parse and parse the arguments\n",
        "#ap = argparse.ArgumentParser()\n",
        "#ap.add_argument(\"-d\", \"--dataset\", type=str, required=True,\n",
        "#\thelp=\"path to output dataset file\")\n",
        "#ap.add_argument(\"-m\", \"--model\", type=str, required=True,\n",
        "#\thelp=\"path to output trained autoencoder\")\n",
        "#ap.add_argument(\"-v\", \"--vis\", type=str, default=\"recon_vis.png\",\n",
        "#\thelp=\"path to output reconstruction visualization file\")\n",
        "#ap.add_argument(\"-p\", \"--plot\", type=str, default=\"plot.png\",\n",
        "#\thelp=\"path to output plot file\")\n",
        "#args = vars(ap.parse_args())\n",
        "\n",
        "# since we are using Jupyter Notebooks we can replace our argument\n",
        "# parsing code with *hard coded* arguments and values\n",
        "args = {\n",
        "\t\"dataset\": \"output/images.pickle\",\n",
        "\t\"model\": \"output/autoencoder.model\",\n",
        "\t\"vis\": \"output/Anomaly_recon_vis.png\",\n",
        "\t\"plot\": \"output/Anomaly_plot.png\"\t\n",
        "}"
      ],
      "execution_count": 24,
      "outputs": []
    },
    {
      "cell_type": "code",
      "metadata": {
        "colab": {
          "base_uri": "https://localhost:8080/"
        },
        "id": "JG6V9V6bJdys",
        "outputId": "3edb7ea8-99a1-4c23-8938-d68791d84168"
      },
      "source": [
        "# initialize the number of epochs to train for, initial learning rate,\n",
        "# and batch size\n",
        "EPOCHS = 20\n",
        "INIT_LR = 1e-3\n",
        "BS = 32\n",
        "\n",
        "# load the MNIST dataset\n",
        "print(\"[INFO] loading MNIST dataset...\")\n",
        "((trainX, trainY), (testX, testY)) = mnist.load_data()\n",
        "\n",
        "# build our unsupervised dataset of images with a small amount of\n",
        "# contamination (i.e., anomalies) added into it\n",
        "print(\"[INFO] creating unsupervised dataset...\")\n",
        "images = build_unsupervised_dataset(trainX, trainY, validLabel=1,\n",
        "\tanomalyLabel=3, contam=0.01)\n",
        "\n",
        "# add a channel dimension to every image in the dataset, then scale\n",
        "# the pixel intensities to the range [0, 1]\n",
        "images = np.expand_dims(images, axis=-1)\n",
        "images = images.astype(\"float32\") / 255.0\n",
        "\n",
        "# construct the training and testing split\n",
        "(trainX, testX) = train_test_split(images, test_size=0.2,\n",
        "\trandom_state=42)"
      ],
      "execution_count": 25,
      "outputs": [
        {
          "output_type": "stream",
          "text": [
            "[INFO] loading MNIST dataset...\n",
            "[INFO] creating unsupervised dataset...\n"
          ],
          "name": "stdout"
        }
      ]
    },
    {
      "cell_type": "code",
      "metadata": {
        "colab": {
          "base_uri": "https://localhost:8080/",
          "height": 999
        },
        "id": "P463QKm1Jdys",
        "outputId": "aaa3f860-a1db-48f4-9886-10253c445496"
      },
      "source": [
        "# construct our convolutional autoencoder\n",
        "print(\"[INFO] building autoencoder...\")\n",
        "(encoder, decoder, autoencoder) = ConvAutoencoder.build(28, 28, 1)\n",
        "opt = Adam(lr=INIT_LR, decay=INIT_LR / EPOCHS)\n",
        "autoencoder.compile(loss=\"mse\", optimizer=opt)\n",
        "\n",
        "# train the convolutional autoencoder\n",
        "H = autoencoder.fit(\n",
        "\ttrainX, trainX,\n",
        "\tvalidation_data=(testX, testX),\n",
        "\tepochs=EPOCHS,\n",
        "\tbatch_size=BS)\n",
        "\n",
        "# use the convolutional autoencoder to make predictions on the\n",
        "# testing images, construct the visualization, and then save it\n",
        "# to disk\n",
        "print(\"[INFO] making predictions...\")\n",
        "decoded = autoencoder.predict(testX)\n",
        "vis = visualize_predictions(decoded, testX)\n",
        "cv2.imwrite(args[\"vis\"], vis)\n",
        "plt_imshow(\"visualization\", vis)"
      ],
      "execution_count": 26,
      "outputs": [
        {
          "output_type": "stream",
          "text": [
            "[INFO] building autoencoder...\n",
            "Epoch 1/20\n",
            "171/171 [==============================] - 2s 6ms/step - loss: 0.0816 - val_loss: 0.0440\n",
            "Epoch 2/20\n",
            "171/171 [==============================] - 1s 5ms/step - loss: 0.0081 - val_loss: 0.0320\n",
            "Epoch 3/20\n",
            "171/171 [==============================] - 1s 5ms/step - loss: 0.0039 - val_loss: 0.0106\n",
            "Epoch 4/20\n",
            "171/171 [==============================] - 1s 5ms/step - loss: 0.0033 - val_loss: 0.0030\n",
            "Epoch 5/20\n",
            "171/171 [==============================] - 1s 5ms/step - loss: 0.0031 - val_loss: 0.0025\n",
            "Epoch 6/20\n",
            "171/171 [==============================] - 1s 5ms/step - loss: 0.0027 - val_loss: 0.0023\n",
            "Epoch 7/20\n",
            "171/171 [==============================] - 1s 5ms/step - loss: 0.0025 - val_loss: 0.0027\n",
            "Epoch 8/20\n",
            "171/171 [==============================] - 1s 5ms/step - loss: 0.0023 - val_loss: 0.0027\n",
            "Epoch 9/20\n",
            "171/171 [==============================] - 1s 5ms/step - loss: 0.0022 - val_loss: 0.0023\n",
            "Epoch 10/20\n",
            "171/171 [==============================] - 1s 5ms/step - loss: 0.0021 - val_loss: 0.0022\n",
            "Epoch 11/20\n",
            "171/171 [==============================] - 1s 5ms/step - loss: 0.0021 - val_loss: 0.0023\n",
            "Epoch 12/20\n",
            "171/171 [==============================] - 1s 5ms/step - loss: 0.0019 - val_loss: 0.0020\n",
            "Epoch 13/20\n",
            "171/171 [==============================] - 1s 5ms/step - loss: 0.0020 - val_loss: 0.0021\n",
            "Epoch 14/20\n",
            "171/171 [==============================] - 1s 5ms/step - loss: 0.0020 - val_loss: 0.0021\n",
            "Epoch 15/20\n",
            "171/171 [==============================] - 1s 5ms/step - loss: 0.0019 - val_loss: 0.0025\n",
            "Epoch 16/20\n",
            "171/171 [==============================] - 1s 5ms/step - loss: 0.0018 - val_loss: 0.0019\n",
            "Epoch 17/20\n",
            "171/171 [==============================] - 1s 5ms/step - loss: 0.0018 - val_loss: 0.0021\n",
            "Epoch 18/20\n",
            "171/171 [==============================] - 1s 5ms/step - loss: 0.0018 - val_loss: 0.0019\n",
            "Epoch 19/20\n",
            "171/171 [==============================] - 1s 5ms/step - loss: 0.0017 - val_loss: 0.0020\n",
            "Epoch 20/20\n",
            "171/171 [==============================] - 1s 5ms/step - loss: 0.0016 - val_loss: 0.0020\n",
            "[INFO] making predictions...\n"
          ],
          "name": "stdout"
        },
        {
          "output_type": "display_data",
          "data": {
            "image/png": "[encoded data removed]",
            "text/plain": [
              "<Figure size 432x288 with 1 Axes>"
            ]
          },
          "metadata": {
            "tags": []
          }
        }
      ]
    },
    {
      "cell_type": "code",
      "metadata": {
        "colab": {
          "base_uri": "https://localhost:8080/",
          "height": 333
        },
        "id": "TCyyclYKJdyt",
        "outputId": "ddab8978-7ea8-4d6c-9d19-2a124e75ab82"
      },
      "source": [
        "# construct a plot that plots and saves the training history\n",
        "N = np.arange(0, EPOCHS)\n",
        "plt.style.use(\"ggplot\")\n",
        "plt.figure()\n",
        "plt.plot(N, H.history[\"loss\"], label=\"train_loss\")\n",
        "plt.plot(N, H.history[\"val_loss\"], label=\"val_loss\")\n",
        "plt.title(\"Training Loss\")\n",
        "plt.xlabel(\"Epoch #\")\n",
        "plt.ylabel(\"Loss\")\n",
        "plt.legend(loc=\"lower left\")\n",
        "plt.savefig(args[\"plot\"])\n",
        "plt.show()\n",
        "\n",
        "# serialize the image data to disk\n",
        "print(\"[INFO] saving image data...\")\n",
        "f = open(args[\"dataset\"], \"wb\")\n",
        "f.write(pickle.dumps(images))\n",
        "f.close()\n",
        "\n",
        "# serialize the autoencoder model to disk\n",
        "print(\"[INFO] saving autoencoder...\")\n",
        "autoencoder.save(args[\"model\"], save_format=\"h5\")"
      ],
      "execution_count": 27,
      "outputs": [
        {
          "output_type": "display_data",
          "data": {
            "image/png": "[encoded data removed]",
            "text/plain": [
              "<Figure size 432x288 with 1 Axes>"
            ]
          },
          "metadata": {
            "tags": []
          }
        },
        {
          "output_type": "stream",
          "text": [
            "[INFO] saving image data...\n",
            "[INFO] saving autoencoder...\n"
          ],
          "name": "stdout"
        }
      ]
    },
    {
      "cell_type": "markdown",
      "metadata": {
        "id": "5slnu2Y6Jdyt"
      },
      "source": [
        "### Implementing our script to find anomalies/outliers using the autoencoder"
      ]
    },
    {
      "cell_type": "code",
      "metadata": {
        "id": "MZIz7nZDJdyt"
      },
      "source": [
        "# construct the argument parse and parse the arguments\n",
        "#ap = argparse.ArgumentParser()\n",
        "#ap.add_argument(\"-d\", \"--dataset\", type=str, required=True,\n",
        "#\thelp=\"path to input image dataset file\")\n",
        "#ap.add_argument(\"-m\", \"--model\", type=str, required=True,\n",
        "#\thelp=\"path to trained autoencoder\")\n",
        "#ap.add_argument(\"-q\", \"--quantile\", type=float, default=0.999,\n",
        "#\thelp=\"q-th quantile used to identify outliers\")\n",
        "#args = vars(ap.parse_args())\n",
        "\n",
        "# since we are using Jupyter Notebooks we can replace our argument\n",
        "# parsing code with *hard coded* arguments and values\n",
        "args = {\n",
        "\t\"dataset\": \"output/images.pickle\",\n",
        "\t\"model\": \"output/autoencoder.model\",\n",
        "\t\"quantile\": 0.999\t\n",
        "}"
      ],
      "execution_count": 28,
      "outputs": []
    },
    {
      "cell_type": "code",
      "metadata": {
        "colab": {
          "base_uri": "https://localhost:8080/"
        },
        "id": "cnyVCFdAJdyt",
        "outputId": "09e1080a-1622-4d9d-aa98-8517af8066b3"
      },
      "source": [
        "# load the model and image data from disk\n",
        "print(\"[INFO] loading autoencoder and image data...\")\n",
        "autoencoder = load_model(args[\"model\"])\n",
        "images = pickle.loads(open(args[\"dataset\"], \"rb\").read())\n",
        "\n",
        "# make predictions on our image data and initialize our list of\n",
        "# reconstruction errors\n",
        "decoded = autoencoder.predict(images)\n",
        "errors = []\n",
        "\n",
        "# loop over all original images and their corresponding\n",
        "# reconstructions\n",
        "for (image, recon) in zip(images, decoded):\n",
        "\t# compute the mean squared error between the ground-truth image\n",
        "\t# and the reconstructed image, then add it to our list of errors\n",
        "\tmse = np.mean((image - recon) ** 2)\n",
        "\terrors.append(mse)"
      ],
      "execution_count": 29,
      "outputs": [
        {
          "output_type": "stream",
          "text": [
            "[INFO] loading autoencoder and image data...\n"
          ],
          "name": "stdout"
        }
      ]
    },
    {
      "cell_type": "code",
      "metadata": {
        "colab": {
          "base_uri": "https://localhost:8080/"
        },
        "id": "W0SLCXAAJdyu",
        "outputId": "1537c27a-28ca-450a-e20d-0d96909f1854"
      },
      "source": [
        "# compute the q-th quantile of the errors which serves as our\n",
        "# threshold to identify anomalies -- any data point that our model\n",
        "# reconstructed with > threshold error will be marked as an outlier\n",
        "thresh = np.quantile(errors, args[\"quantile\"])\n",
        "idxs = np.where(np.array(errors) >= thresh)[0]\n",
        "print(\"[INFO] mse threshold: {}\".format(thresh))\n",
        "print(\"[INFO] {} outliers found\".format(len(idxs)))"
      ],
      "execution_count": 30,
      "outputs": [
        {
          "output_type": "stream",
          "text": [
            "[INFO] mse threshold: 0.024292546495795254\n",
            "[INFO] 7 outliers found\n"
          ],
          "name": "stdout"
        }
      ]
    },
    {
      "cell_type": "code",
      "metadata": {
        "colab": {
          "base_uri": "https://localhost:8080/",
          "height": 265
        },
        "id": "Q6P1430YJdyu",
        "outputId": "1504bc06-1bc0-42a5-a7e2-d9c387bf9234"
      },
      "source": [
        "# initialize the outputs array\n",
        "outputs = None\n",
        "\n",
        "# loop over the indexes of images with a high mean squared error term\n",
        "for i in idxs:\n",
        "\t# grab the original image and reconstructed image\n",
        "\toriginal = (images[i] * 255).astype(\"uint8\")\n",
        "\trecon = (decoded[i] * 255).astype(\"uint8\")\n",
        "\n",
        "\t# stack the original and reconstructed image side-by-side\n",
        "\toutput = np.hstack([original, recon])\n",
        "\n",
        "\t# if the outputs array is empty, initialize it as the current\n",
        "\t# side-by-side image display\n",
        "\tif outputs is None:\n",
        "\t\toutputs = output\n",
        "\n",
        "\t# otherwise, vertically stack the outputs\n",
        "\telse:\n",
        "\t\toutputs = np.vstack([outputs, output])\n",
        "\n",
        "# show the output visualization\n",
        "plt_imshow(\"Output\", outputs)"
      ],
      "execution_count": 31,
      "outputs": [
        {
          "output_type": "display_data",
          "data": {
            "image/png": "[encoded data removed]",
            "text/plain": [
              "<Figure size 432x288 with 1 Axes>"
            ]
          },
          "metadata": {
            "tags": []
          }
        }
      ]
    },
    {
      "cell_type": "code",
      "metadata": {
        "id": "5VyEivjcJdyu"
      },
      "source": [
        ""
      ],
      "execution_count": 31,
      "outputs": []
    },
    {
      "cell_type": "code",
      "metadata": {
        "id": "lnHC92dnJdyu"
      },
      "source": [
        ""
      ],
      "execution_count": 31,
      "outputs": []
    },
    {
      "cell_type": "code",
      "metadata": {
        "id": "WYKb6HKoJdyu"
      },
      "source": [
        ""
      ],
      "execution_count": 31,
      "outputs": []
    },
    {
      "cell_type": "code",
      "metadata": {
        "id": "umXS0G-nJdyv"
      },
      "source": [
        ""
      ],
      "execution_count": 31,
      "outputs": []
    },
    {
      "cell_type": "code",
      "metadata": {
        "id": "FizkZ4GNJdyv"
      },
      "source": [
        ""
      ],
      "execution_count": 31,
      "outputs": []
    }
  ]
}